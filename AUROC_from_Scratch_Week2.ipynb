{
  "nbformat": 4,
  "nbformat_minor": 0,
  "metadata": {
    "colab": {
      "provenance": [],
      "collapsed_sections": [],
      "include_colab_link": true
    },
    "kernelspec": {
      "name": "python3",
      "display_name": "Python 3"
    },
    "language_info": {
      "name": "python"
    }
  },
  "cells": [
    {
      "cell_type": "markdown",
      "metadata": {
        "id": "view-in-github",
        "colab_type": "text"
      },
      "source": [
        "<a href=\"https://colab.research.google.com/github/revathi-prasad/ai-safety-usc-fellowship/blob/main/AUROC_from_Scratch_Week2.ipynb\" target=\"_parent\"><img src=\"https://colab.research.google.com/assets/colab-badge.svg\" alt=\"Open In Colab\"/></a>"
      ]
    },
    {
      "cell_type": "code",
      "execution_count": 2,
      "metadata": {
        "id": "mn8q_6j1tW5i"
      },
      "outputs": [],
      "source": [
        "import numpy as np\n",
        "import matplotlib.pyplot as plt"
      ]
    },
    {
      "cell_type": "code",
      "source": [
        "# Generate test data\n",
        "# Fraction of labels that are positive\n",
        "balance = 0.1\n",
        "\n",
        "# No correlation between x and y\n",
        "y_pred_rand = np.random.rand(1000)\n",
        "y_true_rand = np.random.binomial(n=1, p=balance, size=1000)\n",
        "\n",
        "# Positive correlation between x and y\n",
        "y_true_corr = np.random.binomial(n=1, p=balance, size=1000)\n",
        "y_pred_corr = np.random.rand(1000) + np.random.rand(1000) * y_true_corr"
      ],
      "metadata": {
        "id": "Aje5C8bBtoGG"
      },
      "execution_count": 3,
      "outputs": []
    },
    {
      "cell_type": "code",
      "source": [
        "# Explore the dataset with plt\n",
        "plt.scatter(y_pred_corr, y_true_corr)\n",
        "# plt.hist()\n",
        "plt.show()"
      ],
      "metadata": {
        "id": "ZTwFpfdNvVu6",
        "colab": {
          "base_uri": "https://localhost:8080/",
          "height": 265
        },
        "outputId": "be554638-92e5-4c00-9cd5-a69001175cfd"
      },
      "execution_count": 4,
      "outputs": [
        {
          "output_type": "display_data",
          "data": {
            "text/plain": [
              "<Figure size 432x288 with 1 Axes>"
            ],
            "image/png": "[encoded data removed]"
          },
          "metadata": {
            "needs_background": "light"
          }
        }
      ]
    },
    {
      "cell_type": "code",
      "source": [
        "def compute_metrics(y_pred, y_true, threshold):\n",
        "    # Calculate TPR and FPR for a given threshold\n",
        "    y_pred=np.where(y_pred>threshold,1,0)\n",
        "    tp = 0\n",
        "    fp = 0\n",
        "    tn = 0\n",
        "    fn = 0\n",
        "\n",
        "    for i in range(len(y_pred)):\n",
        "        if y_pred[i]==1 and y_true[i]==1:\n",
        "          tp+=1\n",
        "        elif y_pred[i]==1 and y_true[i]==0:\n",
        "          fp+=1\n",
        "        elif y_pred[i]==0 and y_true[i]==0:\n",
        "          tn+=1\n",
        "        elif y_pred[i]==0 and y_true[i]==1:\n",
        "          fn+=1\n",
        "    \n",
        "    tpr = tp/(tp+tn)\n",
        "    fpr = fp/(tp+tn)\n",
        "\n",
        "    return tpr, fpr"
      ],
      "metadata": {
        "id": "6k4RCXkvvtHx"
      },
      "execution_count": 5,
      "outputs": []
    },
    {
      "cell_type": "code",
      "source": [
        "compute_metrics(y_pred_corr,y_true_corr,0.5)"
      ],
      "metadata": {
        "colab": {
          "base_uri": "https://localhost:8080/"
        },
        "id": "yVV9ZvEIMEsh",
        "outputId": "af1fe6e5-53be-4d16-df6d-d03f8a043af5"
      },
      "execution_count": 6,
      "outputs": [
        {
          "output_type": "execute_result",
          "data": {
            "text/plain": [
              "(0.17234848484848486, 0.875)"
            ]
          },
          "metadata": {},
          "execution_count": 6
        }
      ]
    },
    {
      "cell_type": "code",
      "source": [
        "def plot_roc(y_pred, y_true, eps):\n",
        "    \"\"\"\n",
        "    Plots the AUROC curve \n",
        "    eps is the difference between each tested threshold\n",
        "    \"\"\"\n",
        "\n",
        "    tpr_array, fpr_array = [], []\n",
        "\n",
        "    for threshold in np.arange(0, 2, eps):\n",
        "        tpr, fpr = compute_metrics(y_pred,y_true,threshold)\n",
        "        tpr_array.append(tpr)\n",
        "        fpr_array.append(fpr)\n",
        "\n",
        "    # TODO: Plot the curve!\n",
        "    # Bonus: Also plot a straight line along x=y\n",
        "    plt.plot(fpr_array, tpr_array)\n",
        "    plt.xlabel(\"False Positive Rate\")\n",
        "    plt.ylabel(\"True Positive Rate\")\n",
        "    plt.show()\n",
        "\n",
        "    return tpr_array, fpr_array"
      ],
      "metadata": {
        "id": "OfWsU0osweyc"
      },
      "execution_count": 7,
      "outputs": []
    },
    {
      "cell_type": "code",
      "source": [
        "# Call the above function\n",
        "tpr_array, fpr_array = plot_roc(y_pred_corr, y_true_corr, 0.5)"
      ],
      "metadata": {
        "id": "ZlFB4FdMx-6e",
        "colab": {
          "base_uri": "https://localhost:8080/",
          "height": 279
        },
        "outputId": "f52622a2-4d36-43ad-b2f9-3a185b401126"
      },
      "execution_count": 8,
      "outputs": [
        {
          "output_type": "display_data",
          "data": {
            "text/plain": [
              "<Figure size 432x288 with 1 Axes>"
            ],
            "image/png": "[encoded data removed]"
          },
          "metadata": {
            "needs_background": "light"
          }
        }
      ]
    },
    {
      "cell_type": "code",
      "source": [
        "# def calculate_auroc(tpr_array, fpr_array):\n",
        "#     # Use the trapezoid rule to find the integral of the curve\n",
        "#     # See here: https://numpy.org/doc/stable/reference/generated/numpy.trapz.html\n",
        "#     return sum(np.trapz(tpr_array,fpr_array))+1"
      ],
      "metadata": {
        "id": "Kq3OyCyYxXls"
      },
      "execution_count": 9,
      "outputs": []
    },
    {
      "cell_type": "code",
      "source": [
        "# calculate_auroc(tpr_array, fpr_array)"
      ],
      "metadata": {
        "id": "GRQ-OVA5yPHH"
      },
      "execution_count": null,
      "outputs": []
    },
    {
      "cell_type": "code",
      "source": [
        "# from sklearn.metrics import roc_auc_score\n",
        "\n",
        "# # Check your work!\n",
        "# roc_auc_score(y_pred_corr, y_true_corr)"
      ],
      "metadata": {
        "id": "9v3li1xP2d0U"
      },
      "execution_count": null,
      "outputs": []
    }
  ]
}